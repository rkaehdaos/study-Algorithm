{
 "cells": [
  {
   "cell_type": "markdown",
   "metadata": {
    "id": "LDmLDK0fAsTU"
   },
   "source": [
    "ㅇㅇㅇㅇㅇ\n",
    "문서 에디트"
   ]
  },
  {
   "cell_type": "code",
   "execution_count": 3,
   "metadata": {
    "colab": {
     "base_uri": "https://localhost:8080/"
    },
    "executionInfo": {
     "elapsed": 939,
     "status": "ok",
     "timestamp": 1617005510849,
     "user": {
      "displayName": "Geun Chang Ahn",
      "photoUrl": "https://lh3.googleusercontent.com/a-/AOh14GiTxY5sIchzd8WUwq2UHMSzTz4_LOi4zJaCIkUSgI4=s64",
      "userId": "09771187961938695969"
     },
     "user_tz": -540
    },
    "id": "neh9cwW9ADgN",
    "outputId": "b14e9137-f803-47c5-dab6-34929c3fdae3"
   },
   "outputs": [
    {
     "name": "stdout",
     "output_type": "stream",
     "text": [
      "테스트11\n"
     ]
    }
   ],
   "source": [
    "print('테스트11')"
   ]
  },
  {
   "cell_type": "markdown",
   "metadata": {
    "id": "X3GWYbcKAzye"
   },
   "source": [
    "ㅇㅇㅇㅇㅇㅇㅇ\n"
   ]
  }
 ],
 "metadata": {
  "colab": {
   "authorship_tag": "ABX9TyN8NmLYjxztBCHGFzMqBpc2",
   "collapsed_sections": [],
   "name": "sample.ipynb",
   "provenance": []
  },
  "kernelspec": {
   "display_name": "Python 3",
   "language": "python",
   "name": "python3"
  },
  "language_info": {
   "codemirror_mode": {
    "name": "ipython",
    "version": 3
   },
   "file_extension": ".py",
   "mimetype": "text/x-python",
   "name": "python",
   "nbconvert_exporter": "python",
   "pygments_lexer": "ipython3",
   "version": "3.9.2"
  }
 },
 "nbformat": 4,
 "nbformat_minor": 1
}